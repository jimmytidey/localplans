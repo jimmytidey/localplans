{
 "cells": [
  {
   "cell_type": "code",
   "execution_count": 10,
   "metadata": {},
   "outputs": [
    {
     "data": {
      "text/plain": [
       "0"
      ]
     },
     "metadata": {},
     "output_type": "display_data"
    }
   ],
   "source": []
  },
  {
   "cell_type": "code",
   "execution_count": 20,
   "metadata": {},
   "outputs": [
    {
     "name": "stdout",
     "output_type": "stream",
     "text": [
      "nothing to delete\n"
     ]
    },
    {
     "data": {
      "text/plain": [
       "963"
      ]
     },
     "metadata": {},
     "output_type": "display_data"
    },
    {
     "data": {
      "text/plain": [
       "849"
      ]
     },
     "metadata": {},
     "output_type": "display_data"
    },
    {
     "data": {
      "text/plain": [
       "1021"
      ]
     },
     "metadata": {},
     "output_type": "display_data"
    }
   ],
   "source": [
    "#\n",
    "#\n",
    "# spit and embed by chunking\n",
    "#\n",
    "#\n",
    "import re\n",
    "import uuid\n",
    "import chromadb\n",
    "\n",
    "from langchain.text_splitter import RecursiveCharacterTextSplitter\n",
    "from langchain.embeddings import SentenceTransformerEmbeddings\n",
    "\n",
    "persistent_client = chromadb.PersistentClient()\n",
    "\n",
    "collection_name = 'all-MiniLM-L6-v2_1000_split_clean'\n",
    "\n",
    "try:\n",
    "    persistent_client.delete_collection(name=collection_name)\n",
    "except:\n",
    "    print('nothing to delete')\n",
    "\n",
    "collection = persistent_client.get_or_create_collection(collection_name)\n",
    "\n",
    "embedding_model = SentenceTransformerEmbeddings(model_name=\"all-MiniLM-L6-v2\")\n",
    "\n",
    "pdfs = ['London_Borough_of_Southwark',\n",
    "        'London_Borough_of_Tower_Hamlets', 'London_Borough_of_Islington']\n",
    "\n",
    "for pdf in pdfs[0:3]:\n",
    "    with open('txts/' + pdf + '.txt') as f:\n",
    "        string = f.read()\n",
    "        cleaner_string = string.replace('\\n', ' ').replace('\\r', '')\n",
    "\n",
    "        clean_string = re.sub(\"\\s\\s+\", \" \", cleaner_string)\n",
    "\n",
    "        text_splitter = RecursiveCharacterTextSplitter(\n",
    "            chunk_size=1000,\n",
    "            chunk_overlap=100,\n",
    "            length_function=len,\n",
    "            is_separator_regex=False,\n",
    "        )\n",
    "\n",
    "        # Split text\n",
    "        split_texts = text_splitter.create_documents([clean_string])\n",
    "        split_texts_list = [str(txt.page_content) for txt in split_texts]\n",
    "        display(len(split_texts_list))\n",
    "\n",
    "        # Embed text\n",
    "        embedded_texts = embedding_model.embed_documents(\n",
    "            texts=split_texts_list)\n",
    "\n",
    "        # add vectors to collection\n",
    "        ids = [str(uuid.uuid4()) for sent in split_texts_list]\n",
    "        metadatas = [{\"LPA\": pdf}\n",
    "                     for sent in split_texts_list]\n",
    "        collection.add(\n",
    "            embeddings=embedded_texts,\n",
    "            documents=split_texts_list,\n",
    "            ids=ids,\n",
    "            metadatas=metadatas\n",
    "        )"
   ]
  },
  {
   "cell_type": "code",
   "execution_count": 15,
   "metadata": {},
   "outputs": [
    {
     "data": {
      "text/plain": [
       "0"
      ]
     },
     "metadata": {},
     "output_type": "display_data"
    },
    {
     "data": {
      "text/plain": [
       "3744"
      ]
     },
     "metadata": {},
     "output_type": "display_data"
    },
    {
     "data": {
      "text/plain": [
       "3382"
      ]
     },
     "metadata": {},
     "output_type": "display_data"
    },
    {
     "data": {
      "text/plain": [
       "5002"
      ]
     },
     "metadata": {},
     "output_type": "display_data"
    }
   ],
   "source": [
    "#\n",
    "#\n",
    "# split and embed by sentences\n",
    "#\n",
    "#\n",
    "\n",
    "import chromadb\n",
    "from nltk.tokenize import sent_tokenize\n",
    "\n",
    "\n",
    "collection_name = 'all-MiniLM-L6-v2_sentence_split_clean'\n",
    "\n",
    "persistent_client = chromadb.PersistentClient()\n",
    "\n",
    "try:\n",
    "    persistent_client.delete_collection(name=collection_name)\n",
    "except:\n",
    "    print('nothing to delete')\n",
    "\n",
    "collection = persistent_client.get_or_create_collection(collection_name)\n",
    "display(collection.count())\n",
    "embedding_model = SentenceTransformerEmbeddings(model_name=\"all-MiniLM-L6-v2\")\n",
    "\n",
    "\n",
    "for pdf in pdfs[0:3]:\n",
    "    with open('txts/' + pdf + '.txt') as f:\n",
    "        string = f.read()\n",
    "        cleaner_string = string.replace('\\n', ' ').replace('\\r', '')\n",
    "\n",
    "        clean_string = re.sub(\"\\s\\s+\", \" \", cleaner_string)\n",
    "\n",
    "        # Split text\n",
    "        split_texts_list = sent_tokenize(clean_string)\n",
    "        display(len(split_texts_list))\n",
    "\n",
    "        # Embed text\n",
    "        embedded_texts = embedding_model.embed_documents(\n",
    "            texts=split_texts_list)\n",
    "\n",
    "        # add vectors to collection\n",
    "        ids = [str(uuid.uuid4()) for sent in split_texts_list]\n",
    "        metadatas = [{\"LPA\": pdf}\n",
    "                     for sent in split_texts_list]\n",
    "        collection.add(\n",
    "            embeddings=embedded_texts,\n",
    "            documents=split_texts_list,\n",
    "            ids=ids,\n",
    "            metadatas=metadatas\n",
    "        )"
   ]
  },
  {
   "cell_type": "code",
   "execution_count": null,
   "metadata": {},
   "outputs": [],
   "source": []
  }
 ],
 "metadata": {
  "kernelspec": {
   "display_name": "venv",
   "language": "python",
   "name": "python3"
  },
  "language_info": {
   "codemirror_mode": {
    "name": "ipython",
    "version": 3
   },
   "file_extension": ".py",
   "mimetype": "text/x-python",
   "name": "python",
   "nbconvert_exporter": "python",
   "pygments_lexer": "ipython3",
   "version": "3.11.2"
  }
 },
 "nbformat": 4,
 "nbformat_minor": 2
}
