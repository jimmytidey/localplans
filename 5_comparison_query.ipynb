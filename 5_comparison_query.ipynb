{
 "cells": [
  {
   "cell_type": "code",
   "execution_count": 56,
   "metadata": {},
   "outputs": [
    {
     "data": {
      "text/plain": [
       "2833"
      ]
     },
     "metadata": {},
     "output_type": "display_data"
    }
   ],
   "source": [
    "import chromadb\n",
    "from langchain.embeddings import OpenAIEmbeddings\n",
    "from langchain.embeddings import SentenceTransformerEmbeddings\n",
    "\n",
    "persistent_client = chromadb.PersistentClient()\n",
    "\n",
    "\n",
    "collection = persistent_client.get_or_create_collection(\n",
    "    \"all-MiniLM-L6-v2_1000_split_clean\")\n",
    "display(collection.count())\n",
    "embedding_model = SentenceTransformerEmbeddings(model_name=\"all-MiniLM-L6-v2\")"
   ]
  },
  {
   "cell_type": "code",
   "execution_count": null,
   "metadata": {},
   "outputs": [],
   "source": [
    "collection.peek()"
   ]
  },
  {
   "cell_type": "code",
   "execution_count": 57,
   "metadata": {},
   "outputs": [
    {
     "name": "stdout",
     "output_type": "stream",
     "text": [
      "-------\n",
      "1. Approach to Design and Impact Assessment:\n",
      "In Southwark, there is a strong emphasis on detailed modelling and analysis to assess the impacts of tall buildings. They prioritize well-designed buildings that respond sensitively to the local context and provide benefits for the community. On the other hand, Tower Hamlets focuses on maintaining the character and identity of an area. They require adequate distance between tall buildings and the preservation of existing local character. Islington also emphasizes the evaluation of benefits and justifications for tall buildings in relation to the surrounding context and local townscape.\n",
      "\n",
      "2. Energy Efficiency and Sustainability:\n",
      "Southwark's approach includes a focus on minimizing carbon emissions and reducing energy demand through energy-efficient design and low-carbon energy supply. They also encourage on-site renewable energy generation. Tower Hamlets does not explicitly mention energy efficiency and sustainability in the context provided. Islington mentions the importance of high-density development that optimizes the development potential of sites, but does not specifically address energy efficiency.\n",
      "\n",
      "3. Planning and Development Strategy:\n",
      "Southwark aims to balance delivering homes with providing jobs, protecting industrial and office locations, and preserving open spaces and historic characteristics. They prioritize development in Opportunity and Action Areas. Tower Hamlets seeks to manage the location, scale, and development of tall buildings in the borough. They identify specific areas where tall buildings may be appropriate and emphasize the need for strategic infrastructure provision. Islington focuses on innovation, versatility, and intensification of development to accommodate new housing and other priorities. They also emphasize the evaluation of benefits and impacts of tall buildings.\n"
     ]
    }
   ],
   "source": [
    "# Create context string\n",
    "\n",
    "from langchain.chat_models import ChatOpenAI\n",
    "topic = 'high rise development'\n",
    "\n",
    "query = embedding_model.embed_documents(\n",
    "    [topic],\n",
    ")\n",
    "\n",
    "southwark_results = collection.query(\n",
    "    query_embeddings=query,\n",
    "    where={\"LPA\": \"London_Borough_of_Southwark\"},\n",
    "    n_results=10,\n",
    ")\n",
    "\n",
    "southwark_results_string = '\\n\\n'.join(southwark_results['documents'][0][0:5])\n",
    "\n",
    "th_results = collection.query(\n",
    "    query_embeddings=query,\n",
    "    where={\"LPA\": \"London_Borough_of_Tower_Hamlets\"},\n",
    "    n_results=10,\n",
    ")\n",
    "th_results_string = '\\n\\n'.join(th_results['documents'][0][0:5])\n",
    "\n",
    "\n",
    "islington_results = collection.query(\n",
    "    query_embeddings=query,\n",
    "    where={\"LPA\": \"London_Borough_of_Islington\"},\n",
    "    n_results=10,\n",
    ")\n",
    "islington_results_string = '\\n\\n'.join(islington_results['documents'][0][0:5])\n",
    "\n",
    "\n",
    "context = '''\n",
    "Context from Southwark: \n",
    "{southwark_results}\n",
    "\n",
    "Context from Tower Hamlets: \n",
    "{th_results}\n",
    "\n",
    "Context from Islington: \n",
    "{islington_results}\n",
    "\n",
    "\n",
    "'''.format(southwark_results=southwark_results_string,\n",
    "           th_results=th_results_string, islington_results=islington_results_string)\n",
    "\n",
    "llm = ChatOpenAI(model_name=\"gpt-3.5-turbo\", temperature=1)\n",
    "\n",
    "query_string = '''\n",
    "Compare the way Southwark, Tower Hamlets and Islington approach to the topic of {topic}, listing the three biggest differences. \n",
    "\n",
    "{context} \n",
    "'''. format(context=context, topic=topic)\n",
    "\n",
    "result = llm.call_as_llm(query_string)\n",
    "\n",
    "print('-------')\n",
    "\n",
    "print(result)"
   ]
  }
 ],
 "metadata": {
  "kernelspec": {
   "display_name": "venv",
   "language": "python",
   "name": "python3"
  },
  "language_info": {
   "codemirror_mode": {
    "name": "ipython",
    "version": 3
   },
   "file_extension": ".py",
   "mimetype": "text/x-python",
   "name": "python",
   "nbconvert_exporter": "python",
   "pygments_lexer": "ipython3",
   "version": "3.11.2"
  }
 },
 "nbformat": 4,
 "nbformat_minor": 2
}
