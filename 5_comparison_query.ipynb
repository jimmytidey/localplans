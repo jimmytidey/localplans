{
 "cells": [
  {
   "cell_type": "code",
   "execution_count": null,
   "metadata": {},
   "outputs": [],
   "source": [
    "# Create context string\n",
    "query = embedding_model.embed_documents(\n",
    "    [\"Bike transport\"],\n",
    ")\n",
    "\n",
    "southwark_results = collection.query(\n",
    "    query_embeddings=query,\n",
    "    where={\"LPA\": \"London_Borough_of_Southwark\"},\n",
    "    n_results=4,\n",
    ")\n",
    "\n",
    "southwark_results_string = '\\n\\n'.join(southwark_results['documents'][0][0:4])\n",
    "\n",
    "th_results = collection.query(\n",
    "    query_embeddings=query,\n",
    "    where={\"LPA\": \"London_Borough_of_Tower_Hamlets\"},\n",
    "    n_results=4,\n",
    ")\n",
    "th_results_string = '\\n\\n'.join(th_results['documents'][0][0:4])\n",
    "\n",
    "\n",
    "islington_results = collection.query(\n",
    "    query_embeddings=query,\n",
    "    where={\"LPA\": \"London_Borough_of_Islington\"},\n",
    "    n_results=4,\n",
    ")\n",
    "islington_results_string = '\\n\\n'.join(islington_results['documents'][0][0:4])\n",
    "\n",
    "\n",
    "context = '''\n",
    "Context from Southwark: \n",
    "{southwark_results}\n",
    "\n",
    "\n",
    "Context from Tower Hamlets: \n",
    "{th_results}\n",
    "\n",
    "\n",
    "Context from Islington: \n",
    "{islington_results}\n",
    "\n",
    "\n",
    "'''.format(southwark_results=southwark_results_string, th_results=th_results_string, islington_results=islington_results_string)\n",
    "\n",
    "print(context)"
   ]
  },
  {
   "cell_type": "code",
   "execution_count": null,
   "metadata": {},
   "outputs": [],
   "source": [
    "from langchain.chat_models import ChatOpenAI\n",
    "llm = ChatOpenAI(model_name=\"gpt-4-1106-preview\", temperature=0)\n",
    "\n",
    "query_string = '''\n",
    "Compare the way Southwark, Tower Hamlets and Islington approach to Bike transport\n",
    "\n",
    "{context} \n",
    "'''. format(context=context)\n",
    "\n",
    "result = llm.call_as_llm(query_string)\n",
    "\n",
    "print('-------')\n",
    "\n",
    "print(result)"
   ]
  }
 ],
 "metadata": {
  "language_info": {
   "name": "python"
  }
 },
 "nbformat": 4,
 "nbformat_minor": 2
}
